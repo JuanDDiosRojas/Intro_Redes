{
 "cells": [
  {
   "cell_type": "markdown",
   "metadata": {},
   "source": [
    "# Primer modelo \n"
   ]
  },
  {
   "cell_type": "markdown",
   "metadata": {},
   "source": [
    "Vamos a generar un conjunto de datos artificiales al cuál podremos analizar con nuestro modelo"
   ]
  },
  {
   "cell_type": "code",
   "execution_count": 67,
   "metadata": {},
   "outputs": [],
   "source": [
    "import numpy as np\n",
    "import matplotlib.pyplot as plt\n",
    "import random\n",
    "\n",
    "#primero generamos un conjunto de datos que será analizado por el modelo \n",
    "#n será nuestro número de datos \n",
    "\n",
    "def datos_prueba(w,b,n):\n",
    "    #generamos el dominio de los datos, aleatorios con distribución normal\n",
    "    X=np.random.normal(-10,10,(n,len(w)))\n",
    "    #asignamos los valores de y en función de los pesos w y b, lineal\n",
    "    Y = np.dot(X, w) + b\n",
    "    #Metemos ruido a los datos\n",
    "    Y+=np.random.normal(-0.01,0.01,Y.shape)\n",
    "    return X,Y.reshape(-1,1)\n",
    "                    \n",
    "    \n",
    "#Para este modelo vamos a usar \n",
    "w=(2,-3.4)\n",
    "b=4.2\n",
    "\n",
    "X,Y=datos_prueba(w,b,1000)\n",
    "pass\n"
   ]
  },
  {
   "cell_type": "code",
   "execution_count": 65,
   "metadata": {},
   "outputs": [],
   "source": [
    "#vamos a definir la función que genere el batch\n",
    "def batch(size,X,Y):\n",
    "    n=len(X)\n",
    "    #tomamos la lista de índices de tamaño n\n",
    "    indices=np.arange(0,n+1)\n",
    "    indices=list(indices)\n",
    "    #Tomamos una lista aleatoria de índices de tamaño=size\n",
    "    ibatch=random.sample(indices, size)\n",
    "    Xbatch=[]\n",
    "    Ybatch=[]\n",
    "    #Generamos las nuevas listas random\n",
    "    for i in ibatch:\n",
    "        Xbatch.append(X[i])\n",
    "        Ybatch.append(Y[i])\n",
    "        \n",
    "    return Xbatch,Ybatch\n",
    "    \n",
    "\n",
    "    "
   ]
  },
  {
   "cell_type": "code",
   "execution_count": 79,
   "metadata": {},
   "outputs": [
    {
     "ename": "ImportError",
     "evalue": "cannot import name 'autograd' from 'numpy' (C:\\ProgramData\\Anaconda3\\lib\\site-packages\\numpy\\__init__.py)",
     "output_type": "error",
     "traceback": [
      "\u001b[1;31m---------------------------------------------------------------------------\u001b[0m",
      "\u001b[1;31mImportError\u001b[0m                               Traceback (most recent call last)",
      "\u001b[1;32m<ipython-input-79-a5c6996ebca4>\u001b[0m in \u001b[0;36m<module>\u001b[1;34m\u001b[0m\n\u001b[1;32m----> 1\u001b[1;33m \u001b[1;32mfrom\u001b[0m \u001b[0mnumpy\u001b[0m \u001b[1;32mimport\u001b[0m \u001b[0mautograd\u001b[0m\u001b[1;33m\u001b[0m\u001b[1;33m\u001b[0m\u001b[0m\n\u001b[0m\u001b[0;32m      2\u001b[0m \u001b[1;32mfrom\u001b[0m \u001b[0mautograd\u001b[0m \u001b[1;32mimport\u001b[0m \u001b[0mgrad\u001b[0m\u001b[1;33m\u001b[0m\u001b[1;33m\u001b[0m\u001b[0m\n\u001b[0;32m      3\u001b[0m \u001b[1;32mdef\u001b[0m \u001b[0mpoli3\u001b[0m\u001b[1;33m(\u001b[0m\u001b[0mx\u001b[0m\u001b[1;33m)\u001b[0m\u001b[1;33m:\u001b[0m\u001b[1;33m\u001b[0m\u001b[1;33m\u001b[0m\u001b[0m\n\u001b[0;32m      4\u001b[0m     \u001b[1;32mreturn\u001b[0m \u001b[0mnp\u001b[0m\u001b[1;33m.\u001b[0m\u001b[0mexp\u001b[0m\u001b[1;33m(\u001b[0m\u001b[0mx\u001b[0m\u001b[1;33m)\u001b[0m\u001b[1;33m\u001b[0m\u001b[1;33m\u001b[0m\u001b[0m\n\u001b[0;32m      5\u001b[0m \u001b[1;33m\u001b[0m\u001b[0m\n",
      "\u001b[1;31mImportError\u001b[0m: cannot import name 'autograd' from 'numpy' (C:\\ProgramData\\Anaconda3\\lib\\site-packages\\numpy\\__init__.py)"
     ]
    }
   ],
   "source": [
    "from numpy import autograd\n",
    "from autograd import grad\n",
    "def poli3(x):\n",
    "    return np.exp(x)\n",
    "\n",
    "df=np.grad(poli3)"
   ]
  },
  {
   "cell_type": "code",
   "execution_count": null,
   "metadata": {},
   "outputs": [],
   "source": []
  }
 ],
 "metadata": {
  "kernelspec": {
   "display_name": "Python 3",
   "language": "python",
   "name": "python3"
  },
  "language_info": {
   "codemirror_mode": {
    "name": "ipython",
    "version": 3
   },
   "file_extension": ".py",
   "mimetype": "text/x-python",
   "name": "python",
   "nbconvert_exporter": "python",
   "pygments_lexer": "ipython3",
   "version": "3.7.4"
  }
 },
 "nbformat": 4,
 "nbformat_minor": 2
}

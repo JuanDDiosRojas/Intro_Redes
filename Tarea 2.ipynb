{
 "cells": [
  {
   "cell_type": "code",
   "execution_count": 75,
   "metadata": {},
   "outputs": [],
   "source": [
    "import numpy as np"
   ]
  },
  {
   "cell_type": "markdown",
   "metadata": {},
   "source": [
    "# Problema 1 \n",
    "Factores primos: Encontrar el máximo factor primo de 600851475143"
   ]
  },
  {
   "cell_type": "code",
   "execution_count": 1,
   "metadata": {},
   "outputs": [],
   "source": [
    "#1 definimos una función que dice si un número es primo o no\n",
    "def primo(n):\n",
    "    for i in range(2,n):\n",
    "        if n%i==0: return False\n",
    "    return True\n",
    "\n",
    "#obtenemos los facotores primos\n",
    "def fac(n):\n",
    "    factores=[]\n",
    "    #primero vemos si es factor\n",
    "    for i in range(2,n):\n",
    "        if n%i==0:\n",
    "            #vemos si es primo\n",
    "            if primo(i)==True:\n",
    "                if(i not in factores):factores.append(i)\n",
    "    return factores\n",
    "\n",
    "            \n",
    "                "
   ]
  },
  {
   "cell_type": "code",
   "execution_count": 33,
   "metadata": {},
   "outputs": [
    {
     "ename": "KeyboardInterrupt",
     "evalue": "",
     "output_type": "error",
     "traceback": [
      "\u001b[1;31m---------------------------------------------------------------------------\u001b[0m",
      "\u001b[1;31mKeyboardInterrupt\u001b[0m                         Traceback (most recent call last)",
      "\u001b[1;32m<ipython-input-33-a25649f9bd36>\u001b[0m in \u001b[0;36m<module>\u001b[1;34m\u001b[0m\n\u001b[1;32m----> 1\u001b[1;33m \u001b[0mfac\u001b[0m\u001b[1;33m(\u001b[0m\u001b[1;36m600851475143\u001b[0m\u001b[1;33m)\u001b[0m\u001b[1;33m\u001b[0m\u001b[1;33m\u001b[0m\u001b[0m\n\u001b[0m\u001b[0;32m      2\u001b[0m \u001b[1;31m#finalmente pedimos el máximo de esa lista\u001b[0m\u001b[1;33m\u001b[0m\u001b[1;33m\u001b[0m\u001b[1;33m\u001b[0m\u001b[0m\n\u001b[0;32m      3\u001b[0m \u001b[0mprint\u001b[0m\u001b[1;33m(\u001b[0m\u001b[1;34m'El máximo factor primo de 600851475143 es %d'\u001b[0m\u001b[1;33m%\u001b[0m\u001b[0mmax\u001b[0m\u001b[1;33m(\u001b[0m\u001b[0mfac\u001b[0m\u001b[1;33m(\u001b[0m\u001b[1;36m600851475143\u001b[0m\u001b[1;33m)\u001b[0m\u001b[1;33m)\u001b[0m\u001b[1;33m)\u001b[0m\u001b[1;33m\u001b[0m\u001b[1;33m\u001b[0m\u001b[0m\n",
      "\u001b[1;32m<ipython-input-32-81f08dfddb0a>\u001b[0m in \u001b[0;36mfac\u001b[1;34m(n)\u001b[0m\n\u001b[0;32m      9\u001b[0m     \u001b[0mfactores\u001b[0m\u001b[1;33m=\u001b[0m\u001b[1;33m[\u001b[0m\u001b[1;33m]\u001b[0m\u001b[1;33m\u001b[0m\u001b[1;33m\u001b[0m\u001b[0m\n\u001b[0;32m     10\u001b[0m     \u001b[1;31m#primero vemos si es factor\u001b[0m\u001b[1;33m\u001b[0m\u001b[1;33m\u001b[0m\u001b[1;33m\u001b[0m\u001b[0m\n\u001b[1;32m---> 11\u001b[1;33m     \u001b[1;32mfor\u001b[0m \u001b[0mi\u001b[0m \u001b[1;32min\u001b[0m \u001b[0mrange\u001b[0m\u001b[1;33m(\u001b[0m\u001b[1;36m2\u001b[0m\u001b[1;33m,\u001b[0m\u001b[0mn\u001b[0m\u001b[1;33m)\u001b[0m\u001b[1;33m:\u001b[0m\u001b[1;33m\u001b[0m\u001b[1;33m\u001b[0m\u001b[0m\n\u001b[0m\u001b[0;32m     12\u001b[0m         \u001b[1;32mif\u001b[0m \u001b[0mn\u001b[0m\u001b[1;33m%\u001b[0m\u001b[0mi\u001b[0m\u001b[1;33m==\u001b[0m\u001b[1;36m0\u001b[0m\u001b[1;33m:\u001b[0m\u001b[1;33m\u001b[0m\u001b[1;33m\u001b[0m\u001b[0m\n\u001b[0;32m     13\u001b[0m             \u001b[1;31m#vemos si es primo\u001b[0m\u001b[1;33m\u001b[0m\u001b[1;33m\u001b[0m\u001b[1;33m\u001b[0m\u001b[0m\n",
      "\u001b[1;31mKeyboardInterrupt\u001b[0m: "
     ]
    }
   ],
   "source": [
    "fac(600851475143)\n",
    "#finalmente pedimos el máximo de esa lista\n",
    "print('El máximo factor primo de 600851475143 es %d'%max(fac(600851475143)))"
   ]
  },
  {
   "cell_type": "markdown",
   "metadata": {},
   "source": [
    "# Problema 2\n",
    "Encontrar el número palíndromo más grande producto de dos números de tres dígitos\n"
   ]
  },
  {
   "cell_type": "code",
   "execution_count": 2,
   "metadata": {},
   "outputs": [],
   "source": [
    "#función que diga si es palíndromo\n",
    "def pal(n):\n",
    "    if str(n)==str(n)[::-1]: return True\n",
    "    else: return False\n",
    "    \n",
    "#función que entregue los productos de los dos números que sean palíndromos\n",
    "palindromos=[]\n",
    "factores=[]\n",
    "for i in range(1000):\n",
    "    for j in range(1000):\n",
    "        if pal(i*j)==True:\n",
    "            palindromos.append(i*j)\n",
    "            factores.append([i,j])\n",
    "        \n"
   ]
  },
  {
   "cell_type": "code",
   "execution_count": 3,
   "metadata": {},
   "outputs": [
    {
     "data": {
      "text/plain": [
       "906609"
      ]
     },
     "execution_count": 3,
     "metadata": {},
     "output_type": "execute_result"
    }
   ],
   "source": [
    "max(palindromos)"
   ]
  },
  {
   "cell_type": "code",
   "execution_count": 4,
   "metadata": {},
   "outputs": [
    {
     "data": {
      "text/plain": [
       "[913, 993]"
      ]
     },
     "execution_count": 4,
     "metadata": {},
     "output_type": "execute_result"
    }
   ],
   "source": [
    "#si quisiéramos saber qué factores lo forman...\n",
    "factores[palindromos.index(906609)]"
   ]
  },
  {
   "cell_type": "markdown",
   "metadata": {},
   "source": [
    "# Problema 3\n",
    "2520 is the smallest number that can be divided by each of the numbers from 1 to 10 without any\n",
    "remainder. What is the smallest positive number that is evenly divisible by all of the numbers\n",
    "from 1 to 20"
   ]
  },
  {
   "attachments": {
    "M.PNG": {
     "image/png": "[encoded data removed]"
    }
   },
   "cell_type": "markdown",
   "metadata": {},
   "source": [
    "Para encontrar el mínimo común múltiplo sacamos los factores primos de cada uno de los números y por cada factor en común tomamos el de mayor exponente, así el MCM será el producto de estos\n",
    "![M.PNG](attachment:M.PNG)"
   ]
  },
  {
   "cell_type": "code",
   "execution_count": 68,
   "metadata": {},
   "outputs": [],
   "source": [
    "def prime_factors(n):\n",
    "    i = 2\n",
    "    factors = []\n",
    "    while i * i <= n:\n",
    "        if n % i:\n",
    "            i += 1\n",
    "        else:\n",
    "            n //= i\n",
    "            factors.append(i)\n",
    "    if n > 1:\n",
    "        factors.append(n)\n",
    "    return factors\n",
    "\n",
    "\n",
    "def mcm(m,n):\n",
    "    a=prime_factors(m)\n",
    "    b=prime_factors(n)\n",
    "    f=1\n",
    "    F=1\n",
    "    for i in range(2,max(max(a),max(b))+1):\n",
    "        if(i in a and i in b):\n",
    "            x=a.count(i)\n",
    "            y=b.count(i)\n",
    "            f=f*i**max(x,y)\n",
    "        if i in a and i not in b:\n",
    "                z=a.count(i)\n",
    "                F=F*i**z\n",
    "        if i in b and i not in a:\n",
    "                z=b.count(i)\n",
    "                F=F*i**z \n",
    "    return f*F"
   ]
  },
  {
   "cell_type": "markdown",
   "metadata": {},
   "source": [
    "##### Ahora el MCM de un arreglo de números \n",
    "mcm(a,b,c) = mcm(a,mcm(b,c))\n",
    "\n",
    "\n",
    "\n",
    "\n"
   ]
  },
  {
   "cell_type": "code",
   "execution_count": 121,
   "metadata": {
    "scrolled": false
   },
   "outputs": [
    {
     "name": "stdout",
     "output_type": "stream",
     "text": [
      "232792560\n"
     ]
    }
   ],
   "source": [
    "#Tomamos un arreglo\n",
    "A=np.arange(2,21)\n",
    "#A=[5,9,7,8]\n",
    "n=A[0]\n",
    "m=A[1]\n",
    "l=mcm(m,n)\n",
    "for i in range(2,len(A)):\n",
    "    n=A[i]\n",
    "    o=mcm(l,n)\n",
    "    l=o\n",
    "print(l)\n",
    "    \n",
    "    "
   ]
  },
  {
   "cell_type": "markdown",
   "metadata": {},
   "source": [
    "# Problema 4\n",
    "Función que diga si una palabra es palíndromo"
   ]
  },
  {
   "cell_type": "code",
   "execution_count": 147,
   "metadata": {},
   "outputs": [],
   "source": [
    "def palindromo(A):\n",
    "    A='Odiseo es ido'\n",
    "    A=A.lower()\n",
    "    A=A.replace(' ' ,'')\n",
    "    if str(A)==str(A)[::-1]: return True\n",
    "    else: return False\n",
    "\n",
    "    "
   ]
  },
  {
   "cell_type": "code",
   "execution_count": 148,
   "metadata": {},
   "outputs": [
    {
     "data": {
      "text/plain": [
       "True"
      ]
     },
     "execution_count": 148,
     "metadata": {},
     "output_type": "execute_result"
    }
   ],
   "source": [
    "palindromo('Anita lava la tina')\n"
   ]
  },
  {
   "cell_type": "markdown",
   "metadata": {},
   "source": [
    "# Problema 5\n",
    "Dado un par de números decir si son amigos o no"
   ]
  },
  {
   "cell_type": "code",
   "execution_count": 159,
   "metadata": {},
   "outputs": [],
   "source": [
    "def amigos(m,n):\n",
    "    divisores=[]\n",
    "    for i in range(1,m):\n",
    "        if m%i==0: divisores.append(i)\n",
    "    if sum(divisores)==n:return True\n",
    "    else: return False\n",
    "        "
   ]
  },
  {
   "cell_type": "code",
   "execution_count": 161,
   "metadata": {},
   "outputs": [
    {
     "data": {
      "text/plain": [
       "True"
      ]
     },
     "execution_count": 161,
     "metadata": {},
     "output_type": "execute_result"
    }
   ],
   "source": [
    "amigos(220,284)"
   ]
  },
  {
   "cell_type": "markdown",
   "metadata": {},
   "source": [
    "# Problema 5\n",
    "Decir si un número es perfecto o no"
   ]
  },
  {
   "cell_type": "code",
   "execution_count": 163,
   "metadata": {},
   "outputs": [],
   "source": [
    "def perfecto(n):\n",
    "    if amigos(n,n)==True: print('Es un número perfecto')\n",
    "    else: print('No es perfecto')"
   ]
  },
  {
   "cell_type": "code",
   "execution_count": 164,
   "metadata": {},
   "outputs": [
    {
     "name": "stdout",
     "output_type": "stream",
     "text": [
      "Es un número perfecto\n"
     ]
    }
   ],
   "source": [
    "perfecto(28)"
   ]
  },
  {
   "attachments": {
    "tarea2.PNG": {
     "image/png": "[encoded data removed]"
    }
   },
   "cell_type": "markdown",
   "metadata": {},
   "source": [
    "# Problema 6\n",
    "![tarea2.PNG](attachment:tarea2.PNG)"
   ]
  },
  {
   "cell_type": "code",
   "execution_count": 183,
   "metadata": {},
   "outputs": [],
   "source": [
    "def Vandermonde(v):\n",
    "    n = len(v)\n",
    "    V = np.zeros((n))\n",
    "\n",
    "    for k in range (0,n):\n",
    "        V[k]=v[k]\n",
    "\n",
    "    A = np.zeros((n,n+1))\n",
    "\n",
    "    for i in range(0,n):\n",
    "        A[i][0]=1\n",
    "        for j in range(1,n+1):\n",
    "            A[i][j]=V[i]**j\n",
    "    #print(np.matrix(A))\n",
    "    print(A)"
   ]
  },
  {
   "cell_type": "code",
   "execution_count": 186,
   "metadata": {},
   "outputs": [
    {
     "name": "stdout",
     "output_type": "stream",
     "text": [
      "[[ 1.  1.  1.  1.]\n",
      " [ 1.  2.  4.  8.]\n",
      " [ 1.  3.  9. 27.]]\n"
     ]
    }
   ],
   "source": [
    "v=[1,2,3]\n",
    "Vandermonde(v)"
   ]
  },
  {
   "cell_type": "code",
   "execution_count": 188,
   "metadata": {},
   "outputs": [],
   "source": [
    "def tridiagonal(v):\n",
    "    import numpy as np \n",
    "    n = len(v)\n",
    "    V=np.zeros((n))\n",
    "    for i in range(0,n):\n",
    "        V[i]=v[i]\n",
    "    A = np.zeros((n,n))\n",
    "    \n",
    "    for j in range(0,n-1):\n",
    "        A[j][j+1]=V[j]**2\n",
    "        A[j+1][j]=V[j]**3\n",
    "    for k in range(0,n):\n",
    "        A[k][k]=V[k]\n",
    "    return (A)"
   ]
  },
  {
   "cell_type": "code",
   "execution_count": 190,
   "metadata": {},
   "outputs": [
    {
     "data": {
      "text/plain": [
       "array([[1., 1., 0.],\n",
       "       [1., 2., 4.],\n",
       "       [0., 8., 3.]])"
      ]
     },
     "execution_count": 190,
     "metadata": {},
     "output_type": "execute_result"
    }
   ],
   "source": [
    "v=[1,2,3]\n",
    "tridiagonal(v)"
   ]
  },
  {
   "cell_type": "code",
   "execution_count": 2,
   "metadata": {},
   "outputs": [
    {
     "ename": "NameError",
     "evalue": "name 'pyppeteer' is not defined",
     "output_type": "error",
     "traceback": [
      "\u001b[1;31m---------------------------------------------------------------------------\u001b[0m",
      "\u001b[1;31mNameError\u001b[0m                                 Traceback (most recent call last)",
      "\u001b[1;32m<ipython-input-2-67d7f30ecbcf>\u001b[0m in \u001b[0;36m<module>\u001b[1;34m\u001b[0m\n\u001b[1;32m----> 1\u001b[1;33m \u001b[0mpyppeteer\u001b[0m\u001b[1;33m-\u001b[0m\u001b[0minstall\u001b[0m\u001b[1;33m\u001b[0m\u001b[1;33m\u001b[0m\u001b[0m\n\u001b[0m",
      "\u001b[1;31mNameError\u001b[0m: name 'pyppeteer' is not defined"
     ]
    }
   ],
   "source": [
    "pyppeteer-install"
   ]
  },
  {
   "cell_type": "code",
   "execution_count": null,
   "metadata": {},
   "outputs": [],
   "source": []
  }
 ],
 "metadata": {
  "kernelspec": {
   "display_name": "Python 3",
   "language": "python",
   "name": "python3"
  },
  "language_info": {
   "codemirror_mode": {
    "name": "ipython",
    "version": 3
   },
   "file_extension": ".py",
   "mimetype": "text/x-python",
   "name": "python",
   "nbconvert_exporter": "python",
   "pygments_lexer": "ipython3",
   "version": "3.8.5"
  }
 },
 "nbformat": 4,
 "nbformat_minor": 4
}

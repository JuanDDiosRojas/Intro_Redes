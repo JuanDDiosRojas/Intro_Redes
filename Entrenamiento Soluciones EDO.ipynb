{
 "cells": [
  {
   "cell_type": "code",
   "execution_count": 90,
   "metadata": {},
   "outputs": [
    {
     "data": {
      "text/plain": [
       "[[1, 2, 3], [4, 5, 6], [7, 8, 9], [10, 11, 12]]"
      ]
     },
     "execution_count": 90,
     "metadata": {},
     "output_type": "execute_result"
    }
   ],
   "source": [
    "A=[[1,2,3],[4,5,6]]\n",
    "B=[[7,8,9],[10,11,12]]\n",
    "A.extend(B)\n",
    "A"
   ]
  },
  {
   "cell_type": "code",
   "execution_count": 96,
   "metadata": {},
   "outputs": [
    {
     "data": {
      "text/plain": [
       "array([[ 1,  2,  3],\n",
       "       [ 4,  5,  6],\n",
       "       [ 7,  8,  9],\n",
       "       [10, 11, 12]])"
      ]
     },
     "execution_count": 96,
     "metadata": {},
     "output_type": "execute_result"
    }
   ],
   "source": [
    "A=np.array([[1,2,3],[4,5,6]])\n",
    "B=np.array([[7,8,9],[10,11,12]])\n",
    "np.append(A,B,axis=0)"
   ]
  },
  {
   "cell_type": "markdown",
   "metadata": {},
   "source": [
    "# Entrenamiento de EDO\n",
    "Resolver:\n",
    "\n",
    "$\\dot \\rho_i + 3(1+\\gamma)H\\rho_i = 0$\n",
    "\n",
    "$H^2 = \\frac{\\kappa_0}{3}\\sum \\rho_i$\n",
    "\n",
    "Cambiando variables, a:\n",
    "\n",
    "$\\Omega_i = \\frac{\\kappa_0 }{3H^2} \\rho_i$ "
   ]
  },
  {
   "cell_type": "code",
   "execution_count": 1,
   "metadata": {},
   "outputs": [],
   "source": [
    "from scipy.integrate import odeint\n",
    "import numpy as np\n",
    "import matplotlib.pyplot as plt\n",
    "import random\n",
    "from math import floor\n",
    "from keras import models\n",
    "from keras import layers\n",
    "from keras import optimizers"
   ]
  },
  {
   "cell_type": "markdown",
   "metadata": {},
   "source": [
    "# 1. Transformamos la EDO en una función"
   ]
  },
  {
   "cell_type": "code",
   "execution_count": 70,
   "metadata": {},
   "outputs": [],
   "source": [
    "def RHS(Omega_i, lna, gamma=0):\n",
    "    #x, y, z, H = Omega_i\n",
    "    x, y, z = Omega_i\n",
    "    pi = 3*x + 4*y\n",
    "    #return [x*(-3 + pi), y*(-4 + pi), z*pi, -0.5*H*pi]\n",
    "    return [x*(-3 + pi), y*(-4 + pi), z*pi]\n",
    "\n",
    "def EDO(t,Om):\n",
    "    #t,Or,Om,Ol=X\n",
    "    Or=0.0001\n",
    "    Ol=1-Or-Om\n",
    "    H0 = 70.\n",
    "    y0 = [Om, Or, Ol]\n",
    "    result = odeint(RHS, y0, t)\n",
    "    return result\n",
    "\n",
    "def split(X,Y,porcent): #El porcentaje debe estar dado entre 0 y 1\n",
    "    n=floor(porcent*len(X))\n",
    "    index=random.sample(range(len(X)),n)\n",
    "    X_learn=[]\n",
    "    Y_learn=[]\n",
    "    for i in index:\n",
    "        X_learn.append(X[i])\n",
    "        Y_learn.append(Y[i])\n",
    "    X_val=np.delete(X,index, axis=0)\n",
    "    Y_val=np.delete(Y,index, axis=0)\n",
    "    \n",
    "    X_learn=np.array(X_learn)\n",
    "    Y_learn=np.array(Y_learn)\n",
    "    \n",
    "    return X_learn,Y_learn,X_val,Y_val"
   ]
  },
  {
   "cell_type": "markdown",
   "metadata": {},
   "source": [
    "# 2. Gneramos el conjunto de datos \n",
    "Con las suficientes convinaciones de $\\Omega _i$ como para que el algrtimo aprenda\n",
    "Vamos a variar \n",
    "\n",
    "\n",
    "\n",
    "$O_m \\in [0.1, 0.5]$\n",
    "\n",
    "\n",
    "$t \\in [0,-12]$"
   ]
  },
  {
   "cell_type": "code",
   "execution_count": 268,
   "metadata": {},
   "outputs": [],
   "source": [
    "O_m=np.linspace(0.1,0.5,1000)\n",
    "t=np.linspace(0,-12,1000)"
   ]
  },
  {
   "cell_type": "code",
   "execution_count": 269,
   "metadata": {},
   "outputs": [],
   "source": [
    "Y0=[]\n",
    "for i in O_m:\n",
    "    Om=0.3\n",
    "    Y0.extend(EDO(t,Om))\n",
    "Y0=np.array(Y0)\n",
    "\n",
    "X0=[]\n",
    "for Om in O_m:\n",
    "    for T in t:\n",
    "        X0.append([T,Om])\n",
    "X0=np.array(X0)"
   ]
  },
  {
   "cell_type": "markdown",
   "metadata": {},
   "source": [
    "# Creamos la Red Neuronal que trabajará estos datos\n"
   ]
  },
  {
   "cell_type": "code",
   "execution_count": 271,
   "metadata": {
    "scrolled": true
   },
   "outputs": [
    {
     "name": "stdout",
     "output_type": "stream",
     "text": [
      "Epoch 1/30\n",
      "200000/200000 [==============================] - 142s 707us/step - loss: 0.0021 - val_loss: 1.7522e-05\n",
      "Epoch 2/30\n",
      "200000/200000 [==============================] - 135s 673us/step - loss: 3.5651e-05 - val_loss: 9.2939e-05\n",
      "Epoch 3/30\n",
      "200000/200000 [==============================] - 131s 655us/step - loss: 3.1432e-05 - val_loss: 2.8423e-05\n",
      "Epoch 4/30\n",
      "200000/200000 [==============================] - 127s 637us/step - loss: 2.9072e-05 - val_loss: 2.1495e-05\n",
      "Epoch 5/30\n",
      "200000/200000 [==============================] - 134s 668us/step - loss: 2.4520e-05 - val_loss: 2.7885e-06\n",
      "Epoch 6/30\n",
      "200000/200000 [==============================] - 128s 641us/step - loss: 1.3795e-05 - val_loss: 1.2769e-05\n",
      "Epoch 7/30\n",
      "200000/200000 [==============================] - 127s 634us/step - loss: 1.2898e-05 - val_loss: 7.3491e-06\n",
      "Epoch 8/30\n",
      "200000/200000 [==============================] - 129s 646us/step - loss: 1.2634e-05 - val_loss: 1.1974e-06\n",
      "Epoch 9/30\n",
      "200000/200000 [==============================] - 146s 731us/step - loss: 1.2312e-05 - val_loss: 1.1608e-05\n",
      "Epoch 10/30\n",
      "200000/200000 [==============================] - 182s 910us/step - loss: 1.1940e-05 - val_loss: 2.7948e-05\n",
      "Epoch 11/30\n",
      "200000/200000 [==============================] - 185s 927us/step - loss: 9.8233e-06 - val_loss: 7.1109e-06\n",
      "Epoch 12/30\n",
      "200000/200000 [==============================] - 178s 892us/step - loss: 8.7714e-06 - val_loss: 9.9520e-07\n",
      "Epoch 13/30\n",
      "200000/200000 [==============================] - 184s 918us/step - loss: 8.3983e-06 - val_loss: 6.2828e-06\n",
      "Epoch 14/30\n",
      "200000/200000 [==============================] - 191s 956us/step - loss: 8.1033e-06 - val_loss: 4.2702e-06\n",
      "Epoch 15/30\n",
      "200000/200000 [==============================] - 183s 916us/step - loss: 7.8753e-06 - val_loss: 2.2082e-06\n",
      "Epoch 16/30\n",
      "200000/200000 [==============================] - 187s 933us/step - loss: 7.6108e-06 - val_loss: 3.2944e-06\n",
      "Epoch 17/30\n",
      "200000/200000 [==============================] - 203s 1ms/step - loss: 7.3383e-06 - val_loss: 8.6973e-07\n",
      "Epoch 18/30\n",
      "200000/200000 [==============================] - 206s 1ms/step - loss: 7.0405e-06 - val_loss: 7.7121e-06\n",
      "Epoch 19/30\n",
      "200000/200000 [==============================] - 206s 1ms/step - loss: 6.6880e-06 - val_loss: 2.8169e-06\n",
      "Epoch 20/30\n",
      "200000/200000 [==============================] - 188s 942us/step - loss: 6.3977e-06 - val_loss: 6.0482e-06\n",
      "Epoch 21/30\n",
      "200000/200000 [==============================] - 177s 886us/step - loss: 5.9270e-06 - val_loss: 1.0655e-06\n",
      "Epoch 22/30\n",
      "200000/200000 [==============================] - 173s 864us/step - loss: 5.6089e-06 - val_loss: 7.7873e-06\n",
      "Epoch 23/30\n",
      "200000/200000 [==============================] - 173s 863us/step - loss: 5.3627e-06 - val_loss: 3.1770e-06\n",
      "Epoch 24/30\n",
      "200000/200000 [==============================] - 174s 868us/step - loss: 5.1751e-06 - val_loss: 7.3748e-07\n",
      "Epoch 25/30\n",
      "200000/200000 [==============================] - 179s 896us/step - loss: 5.0304e-06 - val_loss: 4.8070e-07\n",
      "Epoch 26/30\n",
      "200000/200000 [==============================] - 182s 909us/step - loss: 4.9344e-06 - val_loss: 2.0136e-06\n",
      "Epoch 27/30\n",
      "200000/200000 [==============================] - 184s 919us/step - loss: 4.7983e-06 - val_loss: 2.4019e-06\n",
      "Epoch 28/30\n",
      "200000/200000 [==============================] - 186s 930us/step - loss: 4.0693e-06 - val_loss: 2.4545e-06\n",
      "Epoch 29/30\n",
      "200000/200000 [==============================] - 143s 717us/step - loss: 3.9436e-06 - val_loss: 2.4559e-06\n",
      "Epoch 30/30\n",
      "200000/200000 [==============================] - 143s 714us/step - loss: 3.7664e-06 - val_loss: 6.3945e-07\n"
     ]
    },
    {
     "data": {
      "text/plain": [
       "Text(0.5, 1.0, 'Error durante el entrenamiento')"
      ]
     },
     "execution_count": 271,
     "metadata": {},
     "output_type": "execute_result"
    },
    {
     "data": {
      "image/png": "[encoded data removed]",
      "text/plain": [
       "<Figure size 432x288 with 1 Axes>"
      ]
     },
     "metadata": {
      "needs_background": "light"
     },
     "output_type": "display_data"
    }
   ],
   "source": [
    "#Dos paredes ocultas\n",
    "\n",
    "\n",
    "nodos=100\n",
    "split_size=0.8\n",
    "learning_rate=0.001\n",
    "epocas=30\n",
    "\n",
    "#Separamos los datos en validación y entrenamiento\n",
    "X_learn,Y_learn,X_val,Y_val=split(X0,Y0,split_size)\n",
    "\n",
    "#Armamos el modelo con estructura 'Sequential'\n",
    "model=models.Sequential()\n",
    "\n",
    "#la primer capa recibe un numero solamente, usaremos sigmoide como función de activación para la capa oculta\n",
    "capa1=layers.Dense(nodos, input_shape=(2,),use_bias=1,activation='sigmoid')\n",
    "capa2=layers.Dense(nodos,use_bias=1,activation='sigmoid')\n",
    "\n",
    "#para la capa de salida usamos Id como activación\n",
    "salida=layers.Dense(3,use_bias=1)\n",
    "\n",
    "#armamos el modelo\n",
    "model.add(capa1)\n",
    "model.add(capa2)\n",
    "model.add(salida)\n",
    "#Ahora definimos el paso de compilación, con learning rate=0.001\n",
    "#Función de error cuadrático medio\n",
    "\n",
    "\n",
    "model.compile(optimizer=optimizers.RMSprop(lr=learning_rate), loss='mse')\n",
    "\n",
    "#por último traemos los datos de entrenamiento y los procesamos con 'fit()'\n",
    "history=model.fit(X_learn,Y_learn,validation_data=(X_val, Y_val),batch_size=4,epochs=epocas,shuffle=True)\n",
    "\n",
    "error=history.history['loss']\n",
    "exac=history.history['val_loss']\n",
    "epochs=np.arange(0,len(error))\n",
    "plt.plot(epochs,error,label='Error entrenamiento',color='darkblue')\n",
    "plt.plot(epochs,exac,label='Error Validación',color='r')\n",
    "plt.legend()\n",
    "plt.grid()\n",
    "plt.title('Error durante el entrenamiento',color='red')"
   ]
  },
  {
   "cell_type": "code",
   "execution_count": 279,
   "metadata": {
    "scrolled": false
   },
   "outputs": [
    {
     "data": {
      "image/png": "[encoded data removed]",
      "text/plain": [
       "<Figure size 432x288 with 1 Axes>"
      ]
     },
     "metadata": {
      "needs_background": "light"
     },
     "output_type": "display_data"
    }
   ],
   "source": [
    "Z=np.linspace(0,-12,50)\n",
    "dom=[]\n",
    "for z in Z: dom.append([z,0.3]) \n",
    "A=model.predict(dom)\n",
    "plt.plot(Z,EDO(Z, 0.3),color='darkblue')\n",
    "plt.plot(Z,A,color='darkred')\n",
    "plt.grid()"
   ]
  },
  {
   "cell_type": "code",
   "execution_count": 214,
   "metadata": {},
   "outputs": [
    {
     "data": {
      "text/plain": [
       "array([[ 0.7925686 , -0.00420911,  0.20487961]], dtype=float32)"
      ]
     },
     "execution_count": 214,
     "metadata": {},
     "output_type": "execute_result"
    }
   ],
   "source": [
    "model.predict([[1,0.8]])"
   ]
  },
  {
   "cell_type": "code",
   "execution_count": 9,
   "metadata": {
    "scrolled": false
   },
   "outputs": [
    {
     "data": {
      "text/plain": [
       "array([[3.000e-01, 1.000e-04, 6.999e-01]])"
      ]
     },
     "execution_count": 9,
     "metadata": {},
     "output_type": "execute_result"
    }
   ],
   "source": [
    "Om = 0.3\n",
    "t=[-11.75510204]\n",
    "EDO(t,Om)"
   ]
  },
  {
   "cell_type": "code",
   "execution_count": 10,
   "metadata": {},
   "outputs": [
    {
     "data": {
      "text/plain": [
       "array([[ 0.3097651, -0.0057868,  0.6901343]], dtype=float32)"
      ]
     },
     "execution_count": 10,
     "metadata": {},
     "output_type": "execute_result"
    }
   ],
   "source": [
    "model.predict([[-11.75510204,Om]])"
   ]
  },
  {
   "cell_type": "code",
   "execution_count": 11,
   "metadata": {},
   "outputs": [
    {
     "data": {
      "text/plain": [
       "[<matplotlib.lines.Line2D at 0x24c53f8aa90>]"
      ]
     },
     "execution_count": 11,
     "metadata": {},
     "output_type": "execute_result"
    },
    {
     "data": {
      "image/png": "[encoded data removed]",
      "text/plain": [
       "<Figure size 432x288 with 1 Axes>"
      ]
     },
     "metadata": {
      "needs_background": "light"
     },
     "output_type": "display_data"
    }
   ],
   "source": [
    "w=np.linspace(0,-12)\n",
    "B=[[w, Om]]\n",
    "#model.predict(B)\n",
    "plt.plot(Z,A[:,2])\n",
    "#plt.plot(Z,EDO(Z,0.3)[:,1])"
   ]
  },
  {
   "cell_type": "code",
   "execution_count": 12,
   "metadata": {
    "scrolled": true
   },
   "outputs": [
    {
     "data": {
      "text/plain": [
       "<matplotlib.legend.Legend at 0x24c53f30d30>"
      ]
     },
     "execution_count": 12,
     "metadata": {},
     "output_type": "execute_result"
    },
    {
     "data": {
      "image/png": "[encoded data removed]",
      "text/plain": [
       "<Figure size 432x288 with 1 Axes>"
      ]
     },
     "metadata": {
      "needs_background": "light"
     },
     "output_type": "display_data"
    }
   ],
   "source": [
    "t=np.linspace(0,-12)\n",
    "X=[]\n",
    "Or = 0.0001\n",
    "Om = 0.3\n",
    "Ol = 1. - Or - Om\n",
    "plt.plot(t,EDO(t, Om),label='holo')\n",
    "#plt.plot(t, model.predict(t, 0.0001,0.3, Ol))\n",
    "plt.grid()\n",
    "plt.legend()"
   ]
  },
  {
   "cell_type": "code",
   "execution_count": 13,
   "metadata": {
    "scrolled": true
   },
   "outputs": [
    {
     "ename": "ValueError",
     "evalue": "Failed to find data adapter that can handle input: (<class 'list'> containing values of types {'(<class \\'list\\'> containing values of types {\"<class \\'float\\'>\", \"<class \\'numpy.ndarray\\'>\"})'}), <class 'NoneType'>",
     "output_type": "error",
     "traceback": [
      "\u001b[1;31m---------------------------------------------------------------------------\u001b[0m",
      "\u001b[1;31mValueError\u001b[0m                                Traceback (most recent call last)",
      "\u001b[1;32m<ipython-input-13-b534464cd76c>\u001b[0m in \u001b[0;36m<module>\u001b[1;34m\u001b[0m\n\u001b[1;32m----> 1\u001b[1;33m \u001b[0mEDO\u001b[0m\u001b[1;33m(\u001b[0m\u001b[0mt\u001b[0m\u001b[1;33m,\u001b[0m\u001b[0mOm\u001b[0m\u001b[1;33m)\u001b[0m\u001b[1;33m-\u001b[0m\u001b[0mmodel\u001b[0m\u001b[1;33m.\u001b[0m\u001b[0mpredict\u001b[0m\u001b[1;33m(\u001b[0m\u001b[0mB\u001b[0m\u001b[1;33m)\u001b[0m\u001b[1;33m\u001b[0m\u001b[1;33m\u001b[0m\u001b[0m\n\u001b[0m",
      "\u001b[1;32mD:\\Programas\\Anaconda2\\lib\\site-packages\\tensorflow\\python\\keras\\engine\\training.py\u001b[0m in \u001b[0;36mpredict\u001b[1;34m(self, x, batch_size, verbose, steps, callbacks, max_queue_size, workers, use_multiprocessing)\u001b[0m\n\u001b[0;32m   1596\u001b[0m                         '. Consider setting it to AutoShardPolicy.DATA.')\n\u001b[0;32m   1597\u001b[0m \u001b[1;33m\u001b[0m\u001b[0m\n\u001b[1;32m-> 1598\u001b[1;33m       data_handler = data_adapter.DataHandler(\n\u001b[0m\u001b[0;32m   1599\u001b[0m           \u001b[0mx\u001b[0m\u001b[1;33m=\u001b[0m\u001b[0mx\u001b[0m\u001b[1;33m,\u001b[0m\u001b[1;33m\u001b[0m\u001b[1;33m\u001b[0m\u001b[0m\n\u001b[0;32m   1600\u001b[0m           \u001b[0mbatch_size\u001b[0m\u001b[1;33m=\u001b[0m\u001b[0mbatch_size\u001b[0m\u001b[1;33m,\u001b[0m\u001b[1;33m\u001b[0m\u001b[1;33m\u001b[0m\u001b[0m\n",
      "\u001b[1;32mD:\\Programas\\Anaconda2\\lib\\site-packages\\tensorflow\\python\\keras\\engine\\data_adapter.py\u001b[0m in \u001b[0;36m__init__\u001b[1;34m(self, x, y, sample_weight, batch_size, steps_per_epoch, initial_epoch, epochs, shuffle, class_weight, max_queue_size, workers, use_multiprocessing, model, steps_per_execution)\u001b[0m\n\u001b[0;32m   1097\u001b[0m       \u001b[0mself\u001b[0m\u001b[1;33m.\u001b[0m\u001b[0m_steps_per_execution_value\u001b[0m \u001b[1;33m=\u001b[0m \u001b[0msteps_per_execution\u001b[0m\u001b[1;33m.\u001b[0m\u001b[0mnumpy\u001b[0m\u001b[1;33m(\u001b[0m\u001b[1;33m)\u001b[0m\u001b[1;33m.\u001b[0m\u001b[0mitem\u001b[0m\u001b[1;33m(\u001b[0m\u001b[1;33m)\u001b[0m\u001b[1;33m\u001b[0m\u001b[1;33m\u001b[0m\u001b[0m\n\u001b[0;32m   1098\u001b[0m \u001b[1;33m\u001b[0m\u001b[0m\n\u001b[1;32m-> 1099\u001b[1;33m     \u001b[0madapter_cls\u001b[0m \u001b[1;33m=\u001b[0m \u001b[0mselect_data_adapter\u001b[0m\u001b[1;33m(\u001b[0m\u001b[0mx\u001b[0m\u001b[1;33m,\u001b[0m \u001b[0my\u001b[0m\u001b[1;33m)\u001b[0m\u001b[1;33m\u001b[0m\u001b[1;33m\u001b[0m\u001b[0m\n\u001b[0m\u001b[0;32m   1100\u001b[0m     self._adapter = adapter_cls(\n\u001b[0;32m   1101\u001b[0m         \u001b[0mx\u001b[0m\u001b[1;33m,\u001b[0m\u001b[1;33m\u001b[0m\u001b[1;33m\u001b[0m\u001b[0m\n",
      "\u001b[1;32mD:\\Programas\\Anaconda2\\lib\\site-packages\\tensorflow\\python\\keras\\engine\\data_adapter.py\u001b[0m in \u001b[0;36mselect_data_adapter\u001b[1;34m(x, y)\u001b[0m\n\u001b[0;32m    959\u001b[0m   \u001b[1;32mif\u001b[0m \u001b[1;32mnot\u001b[0m \u001b[0madapter_cls\u001b[0m\u001b[1;33m:\u001b[0m\u001b[1;33m\u001b[0m\u001b[1;33m\u001b[0m\u001b[0m\n\u001b[0;32m    960\u001b[0m     \u001b[1;31m# TODO(scottzhu): This should be a less implementation-specific error.\u001b[0m\u001b[1;33m\u001b[0m\u001b[1;33m\u001b[0m\u001b[1;33m\u001b[0m\u001b[0m\n\u001b[1;32m--> 961\u001b[1;33m     raise ValueError(\n\u001b[0m\u001b[0;32m    962\u001b[0m         \u001b[1;34m\"Failed to find data adapter that can handle \"\u001b[0m\u001b[1;33m\u001b[0m\u001b[1;33m\u001b[0m\u001b[0m\n\u001b[0;32m    963\u001b[0m         \"input: {}, {}\".format(\n",
      "\u001b[1;31mValueError\u001b[0m: Failed to find data adapter that can handle input: (<class 'list'> containing values of types {'(<class \\'list\\'> containing values of types {\"<class \\'float\\'>\", \"<class \\'numpy.ndarray\\'>\"})'}), <class 'NoneType'>"
     ]
    }
   ],
   "source": [
    "EDO(t,Om)-model.predict(B)"
   ]
  },
  {
   "cell_type": "code",
   "execution_count": 19,
   "metadata": {},
   "outputs": [
    {
     "data": {
      "text/plain": [
       "array([  0.        ,  -0.24489796,  -0.48979592,  -0.73469388,\n",
       "        -0.97959184,  -1.2244898 ,  -1.46938776,  -1.71428571,\n",
       "        -1.95918367,  -2.20408163,  -2.44897959,  -2.69387755,\n",
       "        -2.93877551,  -3.18367347,  -3.42857143,  -3.67346939,\n",
       "        -3.91836735,  -4.16326531,  -4.40816327,  -4.65306122,\n",
       "        -4.89795918,  -5.14285714,  -5.3877551 ,  -5.63265306,\n",
       "        -5.87755102,  -6.12244898,  -6.36734694,  -6.6122449 ,\n",
       "        -6.85714286,  -7.10204082,  -7.34693878,  -7.59183673,\n",
       "        -7.83673469,  -8.08163265,  -8.32653061,  -8.57142857,\n",
       "        -8.81632653,  -9.06122449,  -9.30612245,  -9.55102041,\n",
       "        -9.79591837, -10.04081633, -10.28571429, -10.53061224,\n",
       "       -10.7755102 , -11.02040816, -11.26530612, -11.51020408,\n",
       "       -11.75510204, -12.        ])"
      ]
     },
     "execution_count": 19,
     "metadata": {},
     "output_type": "execute_result"
    }
   ],
   "source": [
    "t"
   ]
  },
  {
   "cell_type": "code",
   "execution_count": 57,
   "metadata": {},
   "outputs": [
    {
     "data": {
      "text/plain": [
       "array([[ 1.00000000e-01,  1.00000000e-04,  8.99900000e-01],\n",
       "       [ 1.88052355e-01,  2.40235272e-04,  8.11707410e-01],\n",
       "       [ 3.25521037e-01,  5.31244877e-04,  6.73947718e-01],\n",
       "       ...,\n",
       "       [ 8.27744987e-02,  9.17225501e-01,  2.99829402e-11],\n",
       "       [ 6.59809206e-02,  9.34019079e-01, -4.68389117e-11],\n",
       "       [ 5.23998485e-02,  9.47600151e-01,  2.14346210e-10]])"
      ]
     },
     "execution_count": 57,
     "metadata": {},
     "output_type": "execute_result"
    }
   ],
   "source": [
    "lista=[]\n",
    "t=np.linspace(0,-12)\n",
    "for i in np.linspace(0.1,0.9,10):\n",
    "    lista.append(EDO(t,i))\n",
    "lista\n",
    "lista=np.array(lista)\n",
    "lista=lista.reshape(500,3)\n",
    "lista"
   ]
  },
  {
   "cell_type": "code",
   "execution_count": 35,
   "metadata": {},
   "outputs": [
    {
     "data": {
      "text/plain": [
       "array([[1.000e-01, 1.000e-04, 8.999e-01]])"
      ]
     },
     "execution_count": 35,
     "metadata": {},
     "output_type": "execute_result"
    }
   ],
   "source": [
    "EDO(t,0.1)"
   ]
  },
  {
   "cell_type": "code",
   "execution_count": 20,
   "metadata": {},
   "outputs": [
    {
     "data": {
      "text/plain": [
       "array([[3.000e-01, 1.000e-04, 6.999e-01]])"
      ]
     },
     "execution_count": 20,
     "metadata": {},
     "output_type": "execute_result"
    }
   ],
   "source": [
    "EDO([-11.75510204],0.3)\n"
   ]
  },
  {
   "cell_type": "code",
   "execution_count": null,
   "metadata": {},
   "outputs": [],
   "source": [
    "#model.predict([[-12,Om]])[:,1]\n",
    "A"
   ]
  },
  {
   "cell_type": "code",
   "execution_count": null,
   "metadata": {},
   "outputs": [],
   "source": [
    "6.999e-01"
   ]
  },
  {
   "cell_type": "code",
   "execution_count": null,
   "metadata": {},
   "outputs": [],
   "source": []
  }
 ],
 "metadata": {
  "kernelspec": {
   "display_name": "Python 3",
   "language": "python",
   "name": "python3"
  },
  "language_info": {
   "codemirror_mode": {
    "name": "ipython",
    "version": 3
   },
   "file_extension": ".py",
   "mimetype": "text/x-python",
   "name": "python",
   "nbconvert_exporter": "python",
   "pygments_lexer": "ipython3",
   "version": "3.8.5"
  }
 },
 "nbformat": 4,
 "nbformat_minor": 4
}

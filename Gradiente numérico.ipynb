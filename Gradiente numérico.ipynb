{
 "cells": [
  {
   "cell_type": "markdown",
   "metadata": {},
   "source": [
    "# Gradiente\n",
    "Definimos la función que nos da las derivadas parciales y el gradiente para una función $$f:R^n------>R$$"
   ]
  },
  {
   "cell_type": "code",
   "execution_count": 28,
   "metadata": {},
   "outputs": [],
   "source": [
    "#Ahora definimos la función que nos dará el gradiente\n",
    "def grad(f,X):\n",
    "    import numpy as np\n",
    "    def partial(g,k,X):\n",
    "        h=1e-9\n",
    "        Y=np.copy(X)\n",
    "        X[k-1]=X[k-1]+h\n",
    "        dp=(g(X)-g(Y))/h\n",
    "        return dp\n",
    "    \n",
    "    grd=[]\n",
    "    for i in np.arange(0,len(X)):\n",
    "        ai=partial(f,i+1,X)\n",
    "        print(ai)\n",
    "        grd.append(ai)\n",
    "    return grd"
   ]
  },
  {
   "cell_type": "code",
   "execution_count": null,
   "metadata": {},
   "outputs": [],
   "source": []
  }
 ],
 "metadata": {
  "kernelspec": {
   "display_name": "Python 3",
   "language": "python",
   "name": "python3"
  },
  "language_info": {
   "codemirror_mode": {
    "name": "ipython",
    "version": 3
   },
   "file_extension": ".py",
   "mimetype": "text/x-python",
   "name": "python",
   "nbconvert_exporter": "python",
   "pygments_lexer": "ipython3",
   "version": "3.8.3"
  }
 },
 "nbformat": 4,
 "nbformat_minor": 4
}
